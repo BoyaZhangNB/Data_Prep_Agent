{
 "cells": [
  {
   "cell_type": "code",
   "execution_count": null,
   "id": "2134e9f9",
   "metadata": {},
   "outputs": [],
   "source": [
    "import pandas as pd\n",
    "\n",
    "df = pd.read_csv('data_prep_agent/src/data_files/train.csv') #Replace with true data file path\n",
    "df.head()"
   ]
  },
  {
   "cell_type": "code",
   "execution_count": null,
   "id": "4da43e6a",
   "metadata": {},
   "outputs": [],
   "source": [
    "\n",
    "# Convert DataFrame to numpy arrays and split into features and labels\n",
    "X = df[['band1', 'band2', 'band3', 'band4', 'band5', 'band6', 'band7', 'band8', 'band9', 'band10', 'band11', 'band12', 'band13', 'band14', 'band15', 'band16', 'band17', 'band18', 'band19', 'band20', 'band21', 'band22', 'band23', 'band24', 'band25', 'band26', 'band27', 'band28', 'band29', 'band30', 'band31', 'band32', 'band33', 'band34', 'band35', 'band36', 'band37', 'band38', 'band39', 'band40', 'band41', 'band42', 'band43', 'band44', 'band45', 'band46', 'band47', 'band48', 'band49', 'band50', 'band51', 'band52', 'band53', 'band54', 'band55', 'band56', 'band57', 'band58', 'band59', 'band60', 'band61', 'band62', 'band63', 'band64', 'band65', 'band66', 'band67', 'band68', 'band69', 'band70', 'band71', 'band72', 'band73', 'band74', 'band75', 'band76', 'band77', 'band78', 'band79', 'band80', 'band81', 'band82', 'band83', 'band84', 'band85', 'band86', 'band87', 'band88', 'band89', 'band90', 'band91', 'band92', 'band93', 'band94', 'band95', 'band96', 'band97', 'band98', 'band99', 'band100', 'band101', 'band102', 'band103', 'band104', 'band105', 'band106', 'band107', 'band108', 'band109', 'band110', 'band111', 'band112', 'band113', 'band114', 'band115', 'band116', 'band117', 'band118', 'band119', 'band120', 'band121', 'band122', 'band123', 'band124', 'band125', 'band126', 'band127', 'band128', 'band129', 'band130', 'band131', 'band132', 'band133', 'band134', 'band135', 'band136', 'band137', 'band138', 'band139', 'band140', 'band141', 'band142', 'band143', 'band144', 'band145', 'band146', 'band147', 'band148', 'band149', 'band150', 'band151', 'band152', 'band153', 'band154', 'band155', 'band156', 'band157', 'band158', 'band159', 'band160', 'band161', 'band162', 'band163', 'band164', 'band165', 'band166', 'band167', 'band168', 'band169', 'band170', 'band171', 'band172', 'band173', 'band174', 'band175', 'band176', 'band177', 'band178', 'band179', 'band180', 'band181', 'band182', 'band183', 'band184', 'band185', 'band186', 'band187', 'band188', 'band189', 'band190', 'band191', 'band192', 'band193', 'band194', 'band195', 'band196', 'band197', 'band198', 'band199', 'band200', 'band201', 'band202', 'band203', 'band204', 'band205', 'band206', 'band207', 'band208', 'band209', 'band210', 'band211', 'band212', 'band213', 'band214', 'band215', 'band216', 'band217', 'band218', 'band219', 'band220', 'band221', 'band222', 'band223', 'band224', 'band225', 'band226', 'band227', 'band228', 'band229', 'band230', 'band231', 'band232', 'band233', 'band234', 'band235', 'band236', 'band237', 'band238', 'band239', 'band240', 'band241', 'band242', 'band243', 'band244', 'band245', 'band246', 'band247', 'band248', 'band249', 'band250', 'band251', 'band252', 'band253', 'band254', 'band255', 'band256', 'band257', 'band258', 'band259', 'band260', 'band261', 'band262', 'band263', 'band264', 'band265', 'band266', 'band267', 'band268', 'band269', 'band270', 'band271', 'band272', 'band273', 'band274', 'band275', 'band276', 'band277', 'band278', 'band279', 'band280', 'band281', 'band282', 'band283', 'band284', 'band285', 'band286', 'band287', 'band288', 'band289', 'band290', 'band291', 'band292', 'band293', 'band294', 'band295', 'band296', 'band297', 'band298', 'band299', 'band300', 'band301', 'band302', 'band303', 'band304', 'band305', 'band306', 'band307', 'band308', 'band309', 'band310', 'band311', 'band312', 'band313', 'band314', 'band315', 'band316', 'band317', 'band318', 'band319', 'band320', 'band321', 'band322', 'band323', 'band324', 'band325', 'band326', 'band327', 'band328', 'band329', 'band330', 'band331', 'band332', 'band333', 'band334', 'band335', 'band336', 'band337', 'band338', 'band339', 'band340', 'band341', 'band342', 'band343', 'band344', 'band345', 'band346', 'band347', 'band348', 'band349', 'band350', 'band351', 'band352', 'band353', 'band354', 'band355', 'band356', 'band357', 'band358', 'band359', 'band360']].values\n",
    "y = df[['target']].values\n",
    "\n",
    "print(\"Features shape:\", X.shape)\n",
    "print(\"Labels shape:\", y.shape)\n",
    "        "
   ]
  },
  {
   "cell_type": "code",
   "execution_count": null,
   "id": "94bbd2fe",
   "metadata": {},
   "outputs": [],
   "source": [
    "from sklearn.model_selection import train_test_split"
   ]
  },
  {
   "cell_type": "markdown",
   "id": "26b4c5df",
   "metadata": {},
   "source": [
    "Split the dataset into training and testing sets"
   ]
  },
  {
   "cell_type": "code",
   "execution_count": null,
   "id": "f4230879",
   "metadata": {},
   "outputs": [],
   "source": [
    "X_train, X_test, y_train, y_test = train_test_split(X, y, test_size=0.2, random_state=42)"
   ]
  },
  {
   "cell_type": "markdown",
   "id": "648aa94e",
   "metadata": {},
   "source": [
    "Define the training and testing sets with 80% of the data for training and 20% for testing"
   ]
  },
  {
   "cell_type": "code",
   "execution_count": null,
   "id": "61665664",
   "metadata": {},
   "outputs": [],
   "source": [
    "from sklearn.preprocessing import StandardScaler"
   ]
  },
  {
   "cell_type": "markdown",
   "id": "8192a93b",
   "metadata": {},
   "source": [
    "Initialize the StandardScaler to scale the features"
   ]
  },
  {
   "cell_type": "code",
   "execution_count": null,
   "id": "0c45825d",
   "metadata": {},
   "outputs": [],
   "source": [
    "scaler = StandardScaler()"
   ]
  },
  {
   "cell_type": "markdown",
   "id": "80db9438",
   "metadata": {},
   "source": [
    "Fit the scaler to the training data and transform both the training and testing data"
   ]
  },
  {
   "cell_type": "code",
   "execution_count": null,
   "id": "e2e54f91",
   "metadata": {},
   "outputs": [],
   "source": [
    "X_train_scaled = scaler.fit_transform(X_train)\n",
    "X_test_scaled = scaler.transform(X_test)"
   ]
  },
  {
   "cell_type": "markdown",
   "id": "92c56aac",
   "metadata": {},
   "source": [
    "Train a machine learning model using the scaled training data"
   ]
  },
  {
   "cell_type": "code",
   "execution_count": null,
   "id": "c37a7320",
   "metadata": {},
   "outputs": [],
   "source": [
    "from sklearn.linear_model import LogisticRegression"
   ]
  },
  {
   "cell_type": "markdown",
   "id": "da08a536",
   "metadata": {},
   "source": [
    "Initialize the LogisticRegression model"
   ]
  },
  {
   "cell_type": "code",
   "execution_count": null,
   "id": "f6a8591e",
   "metadata": {},
   "outputs": [],
   "source": [
    "model = LogisticRegression(max_iter=1000)"
   ]
  },
  {
   "cell_type": "markdown",
   "id": "495bc6cd",
   "metadata": {},
   "source": [
    "Train the model using the scaled training data"
   ]
  },
  {
   "cell_type": "code",
   "execution_count": null,
   "id": "2f67f1a3",
   "metadata": {},
   "outputs": [],
   "source": [
    "model.fit(X_train_scaled, y_train)"
   ]
  },
  {
   "cell_type": "markdown",
   "id": "1cd6b280",
   "metadata": {},
   "source": [
    "Make predictions on the scaled testing data"
   ]
  },
  {
   "cell_type": "code",
   "execution_count": null,
   "id": "6bdc23e6",
   "metadata": {},
   "outputs": [],
   "source": [
    "y_pred = model.predict(X_test_scaled)"
   ]
  },
  {
   "cell_type": "markdown",
   "id": "14c22b69",
   "metadata": {},
   "source": [
    "Evaluate the model's performance using metrics such as accuracy, precision, and recall"
   ]
  },
  {
   "cell_type": "code",
   "execution_count": null,
   "id": "36ec7f21",
   "metadata": {},
   "outputs": [],
   "source": [
    "from sklearn.metrics import accuracy_score, classification_report, confusion_matrix"
   ]
  },
  {
   "cell_type": "markdown",
   "id": "a5b0cf97",
   "metadata": {},
   "source": [
    "Calculate the accuracy of the model"
   ]
  },
  {
   "cell_type": "code",
   "execution_count": null,
   "id": "78e3eac6",
   "metadata": {},
   "outputs": [],
   "source": [
    "accuracy = accuracy_score(y_test, y_pred)"
   ]
  },
  {
   "cell_type": "markdown",
   "id": "c9390cbe",
   "metadata": {},
   "source": [
    "Print the classification report and confusion matrix"
   ]
  },
  {
   "cell_type": "code",
   "execution_count": null,
   "id": "f2dc783e",
   "metadata": {},
   "outputs": [],
   "source": [
    "print(\"Classification Report:\")\n",
    "print(classification_report(y_test, y_pred))\n",
    "print(\"Confusion Matrix:\")\n",
    "print(confusion_matrix(y_test, y_pred))"
   ]
  }
 ],
 "metadata": {},
 "nbformat": 4,
 "nbformat_minor": 5
}
